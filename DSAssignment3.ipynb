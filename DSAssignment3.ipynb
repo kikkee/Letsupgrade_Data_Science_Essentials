{
 "cells": [
  {
   "cell_type": "markdown",
   "metadata": {},
   "source": [
    "Questions 1: Create a numpy array starting from 2 till 50 with a stepsize of 3."
   ]
  },
  {
   "cell_type": "code",
   "execution_count": 4,
   "metadata": {},
   "outputs": [
    {
     "name": "stdout",
     "output_type": "stream",
     "text": [
      "[ 2  5  8 11 14 17 20 23 26 29 32 35 38 41 44 47 50]\n"
     ]
    }
   ],
   "source": [
    "import numpy as np\n",
    "\n",
    "arr = np.arange(2,51,3)\n",
    "print(arr)"
   ]
  },
  {
   "cell_type": "markdown",
   "metadata": {},
   "source": [
    "Questions 2: Accept two lists of 5 elements each from the user. Convert them to numpy arrays. Concatenate these arrays and print it. Also sort these arrays and print it."
   ]
  },
  {
   "cell_type": "code",
   "execution_count": 5,
   "metadata": {},
   "outputs": [
    {
     "name": "stdout",
     "output_type": "stream",
     "text": [
      "list 1 values 2\n",
      "list 1 values 3\n",
      "list 1 values 4\n",
      "list 1 values 5\n",
      "list 1 values 6\n",
      "list 2 values 1\n",
      "list 2 values 7\n",
      "list 2 values 8\n",
      "list 2 values 5\n",
      "list 2 values 9\n"
     ]
    }
   ],
   "source": [
    "list1=[]\n",
    "list2=[]\n",
    "\n",
    "for i in range(5):\n",
    "  n = int(input(\"list 1 values \"))\n",
    "  list1.append(n)\n",
    "\n",
    "for j in range(5):\n",
    "  m = int(input(\"list 2 values \"))\n",
    "  list2.append(m)"
   ]
  },
  {
   "cell_type": "code",
   "execution_count": 6,
   "metadata": {},
   "outputs": [
    {
     "name": "stdout",
     "output_type": "stream",
     "text": [
      "[2 3 4 5 6 1 7 8 5 9]\n",
      "[1 2 3 4 5 5 6 7 8 9]\n"
     ]
    }
   ],
   "source": [
    "arr1 = np.array(list1)\n",
    "arr2 = np.array(list2)\n",
    "\n",
    "concat = np.concatenate((arr1,arr2))\n",
    "print(concat)\n",
    "sort = np.sort(concat)\n",
    "print(sort)"
   ]
  },
  {
   "cell_type": "markdown",
   "metadata": {},
   "source": [
    "Questions 3: Write a code snippet to find the dimensions of a ndarray and its size."
   ]
  },
  {
   "cell_type": "code",
   "execution_count": 7,
   "metadata": {},
   "outputs": [
    {
     "name": "stdout",
     "output_type": "stream",
     "text": [
      "calculating Dimensions of a nd array is : 2\n",
      "Size of an array is : 12\n"
     ]
    }
   ],
   "source": [
    "import numpy as np\n",
    "\n",
    "arr3 = np.array([[1, 4, 7], [3, 6, 9], [1, 4, 7], [3, 6, 9]])\n",
    "print(\"calculating Dimensions of a nd array is :\", arr3.ndim)\n",
    "\n",
    "print(\"Size of an array is :\", arr3.size)\n"
   ]
  },
  {
   "cell_type": "markdown",
   "metadata": {},
   "source": [
    "Questions 4: How to convert a 1D array into a 2D array? Demonstrate with the help of a code snippet Hint: np.newaxis, np.expand_dims"
   ]
  },
  {
   "cell_type": "code",
   "execution_count": 8,
   "metadata": {},
   "outputs": [
    {
     "name": "stdout",
     "output_type": "stream",
     "text": [
      "10\n",
      " 1D array: (10,)\n",
      " 2D array for row is : (1, 10)\n",
      " 2D array for column is : (10, 1)\n"
     ]
    }
   ],
   "source": [
    "import numpy as np\n",
    "\n",
    "arr = np.arange(int(input()))\n",
    "print(\" 1D array:\", arr.shape)\n",
    "\n",
    "two_d_array_row = arr[np.newaxis]\n",
    "print(\" 2D array for row is :\", two_d_array_row.shape)\n",
    "\n",
    "two_d_array_col = arr[:, np.newaxis]\n",
    "print(\" 2D array for column is :\", two_d_array_col.shape)"
   ]
  },
  {
   "cell_type": "markdown",
   "metadata": {},
   "source": [
    "Questions 5: Consider two square numpy arrays. Stack them vertically and horizontally. Hint: Use vstack(), hstack()"
   ]
  },
  {
   "cell_type": "code",
   "execution_count": 10,
   "metadata": {},
   "outputs": [
    {
     "name": "stdout",
     "output_type": "stream",
     "text": [
      "[[ 1  4  5]\n",
      " [ 8 79  6]\n",
      " [ 3  5  7]]\n",
      "[[4 5 8]\n",
      " [6 9 7]\n",
      " [4 5 6]]\n",
      "\n",
      " horizontally stacked :\n",
      "\n",
      "[[ 1  4  5  4  5  8]\n",
      " [ 8 79  6  6  9  7]\n",
      " [ 3  5  7  4  5  6]]\n",
      "\n",
      " vertically stacked :\n",
      "\n",
      "[[ 1  4  5]\n",
      " [ 8 79  6]\n",
      " [ 3  5  7]\n",
      " [ 4  5  8]\n",
      " [ 6  9  7]\n",
      " [ 4  5  6]]\n"
     ]
    }
   ],
   "source": [
    "import numpy as np\n",
    "\n",
    "my_array_one = np.array([[1, 4, 5],[ 8, 79, 6],[ 3, 5, 7]])  \n",
    "my_array_two = np.array([[4, 5, 8],[ 6, 9, 7],[ 4, 5, 6]])  \n",
    "\n",
    "print(my_array_one)\n",
    "print(my_array_two)\n",
    "\n",
    "print()\n",
    "\n",
    "print(\" horizontally stacked :\\n\")\n",
    "print( np.hstack((my_array_one, my_array_two)))\n",
    "print()\n",
    "print(\" vertically stacked :\\n\")\n",
    "print( np.vstack((my_array_one, my_array_two)))"
   ]
  },
  {
   "cell_type": "markdown",
   "metadata": {},
   "source": [
    "Questions 6: How to get unique items and counts of unique items?"
   ]
  },
  {
   "cell_type": "code",
   "execution_count": 12,
   "metadata": {},
   "outputs": [
    {
     "name": "stdout",
     "output_type": "stream",
     "text": [
      "[4 5 6 7 8 9] [3 2 1 1 1 1]\n",
      "\n",
      "[[4 3]\n",
      " [5 2]\n",
      " [6 1]\n",
      " [7 1]\n",
      " [8 1]\n",
      " [9 1]]\n"
     ]
    }
   ],
   "source": [
    "import numpy as np\n",
    "\n",
    "arr = np.array([4, 7, 8, 9, 5, 6, 5, 4, 4])\n",
    "\n",
    "unique, counts = np.unique(arr, return_counts=True)\n",
    "print(unique, counts)\n",
    "print()\n",
    "arr = np.asarray((unique, counts)).T\n",
    "print(arr)"
   ]
  },
  {
   "cell_type": "code",
   "execution_count": null,
   "metadata": {},
   "outputs": [],
   "source": []
  }
 ],
 "metadata": {
  "kernelspec": {
   "display_name": "Python 3",
   "language": "python",
   "name": "python3"
  },
  "language_info": {
   "codemirror_mode": {
    "name": "ipython",
    "version": 3
   },
   "file_extension": ".py",
   "mimetype": "text/x-python",
   "name": "python",
   "nbconvert_exporter": "python",
   "pygments_lexer": "ipython3",
   "version": "3.7.6"
  }
 },
 "nbformat": 4,
 "nbformat_minor": 4
}
